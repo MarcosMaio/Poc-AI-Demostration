{
 "cells": [
  {
   "cell_type": "code",
   "execution_count": 1,
   "metadata": {},
   "outputs": [],
   "source": [
    "%%capture\n",
    "%load_ext autoreload\n",
    "%autoreload 2\n",
    "%reset -f"
   ]
  },
  {
   "cell_type": "markdown",
   "metadata": {},
   "source": [
    "#### **Import required libraries**"
   ]
  },
  {
   "cell_type": "code",
   "execution_count": 2,
   "metadata": {},
   "outputs": [],
   "source": [
    "import logging\n",
    "import os"
   ]
  },
  {
   "cell_type": "markdown",
   "metadata": {},
   "source": [
    "#### **Import utilities and configurations**\n"
   ]
  },
  {
   "cell_type": "code",
   "execution_count": 3,
   "metadata": {},
   "outputs": [],
   "source": [
    "from agents import Agents\n",
    "from helpers import (\n",
    "    clean_agent_output\n",
    ")"
   ]
  },
  {
   "cell_type": "markdown",
   "metadata": {},
   "source": [
    "#### **Model Config**\n"
   ]
  },
  {
   "cell_type": "code",
   "execution_count": 4,
   "metadata": {},
   "outputs": [],
   "source": [
    "model: str = \"gemini/gemini-1.5-flash\"\n",
    "api_key: str = os.getenv(\"GEMINI_API_KEY\")\n",
    "temperature: float = 0.1\n",
    "top_p: float = 0.85"
   ]
  },
  {
   "cell_type": "markdown",
   "metadata": {},
   "source": [
    "#### **Inicial Setup**\n"
   ]
  },
  {
   "cell_type": "code",
   "execution_count": 5,
   "metadata": {},
   "outputs": [],
   "source": [
    "logger = logging.getLogger(\"poc_presentations\")\n",
    "agents = Agents(model, api_key, temperature, top_p)"
   ]
  },
  {
   "cell_type": "markdown",
   "metadata": {},
   "source": [
    "#### **Process Agent**"
   ]
  },
  {
   "cell_type": "code",
   "execution_count": 6,
   "metadata": {},
   "outputs": [
    {
     "name": "stdout",
     "output_type": "stream",
     "text": [
      "\u001b[1m\u001b[95m# Agent:\u001b[00m \u001b[1m\u001b[92mSQL Query Generator\u001b[00m\n",
      "\u001b[95m## Task:\u001b[00m \u001b[92mGiven the following table metadata:\n",
      "Table Name: produtos\n",
      "Description: Tabela contendo informações sobre os produtos disponíveis, incluindo estoque, preços, últimas compras e vendas.\n",
      "Columns:\n",
      "- FILIAL: TEXT\n",
      "- CodigoProduto: TEXT\n",
      "- DescricaoProduto: TEXT\n",
      "- Modelo: TEXT\n",
      "- ModeloDescricao: TEXT\n",
      "- Grupo_John_Deere: TEXT\n",
      "- UnidadeMedida: TEXT\n",
      "- Marca: TEXT\n",
      "- EstoqueDisponivel: REAL\n",
      "- EstoqueReservaBalcao: REAL\n",
      "- EstoqueReservaOficina: REAL\n",
      "- PrecoVenda: REAL\n",
      "- CustoMedioUnitario: REAL\n",
      "- ValorUltimaCompraFilial: REAL\n",
      "- Locacao: TEXT\n",
      "- UltimaCompraFilial: TEXT\n",
      "- UltimaCompra: TEXT\n",
      "- UltimaVendaFilial: TEXT\n",
      "- UltimaVenda: TEXT\n",
      "- DataInclusao: TEXT\n",
      "- UsuarioInclusao: TEXT\n",
      "- DataAlteracao: TEXT\n",
      "- UsuarioAlteracao: TEXT\n",
      "\n",
      "Generate an SQL query to answer the user question: Qual produto possui o preço de venda mais alto e qual e esse valor ?\n",
      "If the question is not related to the provided table information or cannot be answered using the available data, respond with \"No relevant data found.\"\n",
      "\u001b[00m\n",
      "\n",
      "\n",
      "\u001b[1m\u001b[95m# Agent:\u001b[00m \u001b[1m\u001b[92mSQL Query Generator\u001b[00m\n",
      "\u001b[95m## Final Answer:\u001b[00m \u001b[92m\n",
      "```sql\n",
      "SELECT DescricaoProduto, MAX(PrecoVenda) AS PrecoVendaMaximo\n",
      "FROM produtos\n",
      "GROUP BY DescricaoProduto\n",
      "ORDER BY PrecoVendaMaximo DESC\n",
      "LIMIT 1;\n",
      "```\u001b[00m\n",
      "\n",
      "\n",
      "\u001b[1m\u001b[95m# Agent:\u001b[00m \u001b[1m\u001b[92mDatabase Expert \u001b[00m\n",
      "\u001b[95m## Task:\u001b[00m \u001b[92mUse the provided database tool to execute the following SQL query return by the SQL Query Generator Agent.\n",
      "Interpret the results and provide a clear answer.\n",
      "If no valid query is generated, return an appropriate message indicating that no data is available.\n",
      "\u001b[00m\n",
      "\n",
      "\n",
      "\u001b[1m\u001b[95m# Agent:\u001b[00m \u001b[1m\u001b[92mDatabase Expert \u001b[00m\n",
      "\u001b[95m## Using tool:\u001b[00m \u001b[92mSQLite Query Tool\u001b[00m\n",
      "\u001b[95m## Tool Input:\u001b[00m \u001b[92m\n",
      "\"{\\\"query\\\": \\\"SELECT DescricaoProduto, MAX(PrecoVenda) AS PrecoVendaMaximo FROM produtos GROUP BY DescricaoProduto ORDER BY PrecoVendaMaximo DESC LIMIT 1;\\\", \\\"db_path\\\": \\\"C:/Users/Public/Documents/products.db\\\"}\"\u001b[00m\n",
      "\u001b[95m## Tool Output:\u001b[00m \u001b[92m\n",
      "[('1BM7230CKR3000655                                                               ', 1353110.25)]\u001b[00m\n",
      "\n",
      "\n",
      "\u001b[1m\u001b[95m# Agent:\u001b[00m \u001b[1m\u001b[92mDatabase Expert \u001b[00m\n",
      "\u001b[95m## Final Answer:\u001b[00m \u001b[92m\n",
      "The product with the highest selling price is '1BM7230CKR3000655                                                               ' with a price of 1353110.25.\n",
      "```\u001b[00m\n",
      "\n",
      "\n",
      "The product with the highest selling price is '1BM7230CKR3000655                                                               ' with a price of 1353110.25.\n",
      "```\n"
     ]
    }
   ],
   "source": [
    "result = clean_agent_output(agents.extract_answer(user_question=\"Qual produto possui o preço de venda mais alto e qual e esse valor ?\")) \n",
    "print(result)"
   ]
  }
 ],
 "metadata": {
  "kernelspec": {
   "display_name": "venv",
   "language": "python",
   "name": "python3"
  },
  "language_info": {
   "codemirror_mode": {
    "name": "ipython",
    "version": 3
   },
   "file_extension": ".py",
   "mimetype": "text/x-python",
   "name": "python",
   "nbconvert_exporter": "python",
   "pygments_lexer": "ipython3",
   "version": "3.12.5"
  }
 },
 "nbformat": 4,
 "nbformat_minor": 2
}
